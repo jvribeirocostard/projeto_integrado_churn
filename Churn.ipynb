{
  "nbformat": 4,
  "nbformat_minor": 5,
  "metadata": {
    "kernelspec": {
      "display_name": "Python 3",
      "language": "python",
      "name": "python3"
    },
    "language_info": {
      "codemirror_mode": {
        "name": "ipython",
        "version": 3
      },
      "file_extension": ".py",
      "mimetype": "text/x-python",
      "name": "python",
      "nbconvert_exporter": "python",
      "pygments_lexer": "ipython3",
      "version": "3.8.8"
    },
    "colab": {
      "provenance": [],
      "include_colab_link": true
    }
  },
  "cells": [
    {
      "cell_type": "markdown",
      "metadata": {
        "id": "view-in-github",
        "colab_type": "text"
      },
      "source": [
        "<a href=\"https://colab.research.google.com/github/jvribeirocostard/proje/blob/main/Churn.ipynb\" target=\"_parent\"><img src=\"https://colab.research.google.com/assets/colab-badge.svg\" alt=\"Open In Colab\"/></a>"
      ]
    },
    {
      "cell_type": "markdown",
      "metadata": {
        "id": "7DP3U7JtujTW"
      },
      "source": [
        "# **Projeto Final**\n",
        "\n",
        "---\n",
        "\n",
        "\n",
        "## **Projeto Integrado**\n",
        "\n",
        "---\n",
        "\n",
        "\n",
        "\n",
        "### **Integrantes**\n",
        "Gabriel Arai\n",
        "\n",
        "João Vitor\n",
        "\n",
        "José Vitor\n",
        "\n",
        "Paulo Renato\n",
        "\n",
        "---\n",
        "\n",
        "\n",
        "\n"
      ],
      "id": "7DP3U7JtujTW"
    },
    {
      "cell_type": "markdown",
      "metadata": {
        "id": "zhrcThoFuyOv"
      },
      "source": [
        "# **Introdução**\n",
        "  O nosso plano de negócio será relacionado sobre *churn*, que nada mais é\n",
        "uma métrica que indica o quanto sua empresa perdeu seus clientes ou receita, por exemplo em serviços como Netflix e Spotify, ela representaria cancelamento de assinaturas. Ela é de extrema importância para identificar pontenciais cancelamento ao longo do tempo com antecedência, e reter que o churn não aumente, e sim diminue.\n",
        "\n",
        "Nisso, iremos identificar quais *features* que levam a contribuir o churn, realizando uma análise exploratória do dataset escolhido, fazer limpeza de dados e pré-processamento, assim eventualmente trabalhar com os modelos, que irá fazer a previsão dos clientes, fazendo uma conclusão de qual algoritmo tem a melhor perfomance dentro do contexto.\n",
        "\n",
        "---\n",
        "\n",
        "\n"
      ],
      "id": "zhrcThoFuyOv"
    },
    {
      "cell_type": "markdown",
      "metadata": {
        "id": "NPA_AADtvRWH"
      },
      "source": [
        "\n",
        "\n",
        "# 1.  Biblioteca e Utilidades\n"
      ],
      "id": "NPA_AADtvRWH"
    },
    {
      "cell_type": "code",
      "metadata": {
        "id": "4eff2c5f"
      },
      "source": [
        "from sklearn import svm\n",
        "from sklearn.svm import SVC\n",
        "from sklearn import tree\n",
        "from sklearn.preprocessing import StandardScaler\n",
        "from sklearn.model_selection import train_test_split\n",
        "from sklearn.metrics import confusion_matrix\n",
        "from sklearn.metrics import classification_report\n",
        "import numpy as np\n",
        "import pandas as pd\n",
        "import joblib\n",
        "import matplotlib.pyplot as plt\n",
        "import seaborn as sns\n",
        "from sklearn.cluster import KMeans"
      ],
      "id": "4eff2c5f",
      "execution_count": null,
      "outputs": []
    },
    {
      "cell_type": "markdown",
      "metadata": {
        "id": "soXmPNeqvYBf"
      },
      "source": [
        "#2. Dataset\n",
        "\n",
        "O dataset inclui informações sobre:\n",
        "\n",
        "\n",
        "*   **Clientes que saíram no último mês -** a coluna é chamada de Churn value  (variável target)\n",
        "*   **Serviços que cada cliente assinou -** telefone, várias linhas, internet, segurança online, backup online, proteção de dispositivo, suporte técnico e streaming de TV e filmes\n",
        "*   **Informações da conta do cliente -** há quanto tempo ele é cliente da empresa\n",
        "*   **Dados demográficos -** sexo, faixa etária e se têm parceiros ou não\n",
        "*   **Informações relacionadas à localização -** cidade, código postal e coordenadas de latitude e longitude\n",
        "\n",
        "\n",
        "\n",
        "\n"
      ],
      "id": "soXmPNeqvYBf"
    },
    {
      "cell_type": "code",
      "metadata": {
        "id": "107b217d",
        "colab": {
          "base_uri": "https://localhost:8080/",
          "height": 635
        },
        "outputId": "69c6d79c-1fb4-4334-bca7-a57bef10dd3c"
      },
      "source": [
        "df = pd.read_csv('Telco_customer_churn.csv', sep=\",\")\n",
        "df"
      ],
      "id": "107b217d",
      "execution_count": null,
      "outputs": [
        {
          "output_type": "execute_result",
          "data": {
            "text/html": [
              "<div>\n",
              "<style scoped>\n",
              "    .dataframe tbody tr th:only-of-type {\n",
              "        vertical-align: middle;\n",
              "    }\n",
              "\n",
              "    .dataframe tbody tr th {\n",
              "        vertical-align: top;\n",
              "    }\n",
              "\n",
              "    .dataframe thead th {\n",
              "        text-align: right;\n",
              "    }\n",
              "</style>\n",
              "<table border=\"1\" class=\"dataframe\">\n",
              "  <thead>\n",
              "    <tr style=\"text-align: right;\">\n",
              "      <th></th>\n",
              "      <th>City</th>\n",
              "      <th>Zip Code</th>\n",
              "      <th>Latitude</th>\n",
              "      <th>Longitude</th>\n",
              "      <th>Gender</th>\n",
              "      <th>Senior Citizen</th>\n",
              "      <th>Partner</th>\n",
              "      <th>Dependents</th>\n",
              "      <th>Tenure Months</th>\n",
              "      <th>Phone Service</th>\n",
              "      <th>Multiple Lines</th>\n",
              "      <th>Internet Service</th>\n",
              "      <th>Online Security</th>\n",
              "      <th>Online Backup</th>\n",
              "      <th>Device Protection</th>\n",
              "      <th>Tech Support</th>\n",
              "      <th>Streaming TV</th>\n",
              "      <th>Streaming Movies</th>\n",
              "      <th>Monthly Charges</th>\n",
              "      <th>Churn Value</th>\n",
              "    </tr>\n",
              "  </thead>\n",
              "  <tbody>\n",
              "    <tr>\n",
              "      <th>0</th>\n",
              "      <td>Los Angeles</td>\n",
              "      <td>90003</td>\n",
              "      <td>33.964131</td>\n",
              "      <td>-118.272783</td>\n",
              "      <td>Male</td>\n",
              "      <td>No</td>\n",
              "      <td>No</td>\n",
              "      <td>No</td>\n",
              "      <td>2</td>\n",
              "      <td>Yes</td>\n",
              "      <td>No</td>\n",
              "      <td>DSL</td>\n",
              "      <td>Yes</td>\n",
              "      <td>Yes</td>\n",
              "      <td>No</td>\n",
              "      <td>No</td>\n",
              "      <td>No</td>\n",
              "      <td>No</td>\n",
              "      <td>53.85</td>\n",
              "      <td>1</td>\n",
              "    </tr>\n",
              "    <tr>\n",
              "      <th>1</th>\n",
              "      <td>Los Angeles</td>\n",
              "      <td>90005</td>\n",
              "      <td>34.059281</td>\n",
              "      <td>-118.307420</td>\n",
              "      <td>Female</td>\n",
              "      <td>No</td>\n",
              "      <td>No</td>\n",
              "      <td>Yes</td>\n",
              "      <td>2</td>\n",
              "      <td>Yes</td>\n",
              "      <td>No</td>\n",
              "      <td>Fiber optic</td>\n",
              "      <td>No</td>\n",
              "      <td>No</td>\n",
              "      <td>No</td>\n",
              "      <td>No</td>\n",
              "      <td>No</td>\n",
              "      <td>No</td>\n",
              "      <td>70.70</td>\n",
              "      <td>1</td>\n",
              "    </tr>\n",
              "    <tr>\n",
              "      <th>2</th>\n",
              "      <td>Los Angeles</td>\n",
              "      <td>90006</td>\n",
              "      <td>34.048013</td>\n",
              "      <td>-118.293953</td>\n",
              "      <td>Female</td>\n",
              "      <td>No</td>\n",
              "      <td>No</td>\n",
              "      <td>Yes</td>\n",
              "      <td>8</td>\n",
              "      <td>Yes</td>\n",
              "      <td>Yes</td>\n",
              "      <td>Fiber optic</td>\n",
              "      <td>No</td>\n",
              "      <td>No</td>\n",
              "      <td>Yes</td>\n",
              "      <td>No</td>\n",
              "      <td>Yes</td>\n",
              "      <td>Yes</td>\n",
              "      <td>99.65</td>\n",
              "      <td>1</td>\n",
              "    </tr>\n",
              "    <tr>\n",
              "      <th>3</th>\n",
              "      <td>Los Angeles</td>\n",
              "      <td>90010</td>\n",
              "      <td>34.062125</td>\n",
              "      <td>-118.315709</td>\n",
              "      <td>Female</td>\n",
              "      <td>No</td>\n",
              "      <td>Yes</td>\n",
              "      <td>Yes</td>\n",
              "      <td>28</td>\n",
              "      <td>Yes</td>\n",
              "      <td>Yes</td>\n",
              "      <td>Fiber optic</td>\n",
              "      <td>No</td>\n",
              "      <td>No</td>\n",
              "      <td>Yes</td>\n",
              "      <td>Yes</td>\n",
              "      <td>Yes</td>\n",
              "      <td>Yes</td>\n",
              "      <td>104.80</td>\n",
              "      <td>1</td>\n",
              "    </tr>\n",
              "    <tr>\n",
              "      <th>4</th>\n",
              "      <td>Los Angeles</td>\n",
              "      <td>90015</td>\n",
              "      <td>34.039224</td>\n",
              "      <td>-118.266293</td>\n",
              "      <td>Male</td>\n",
              "      <td>No</td>\n",
              "      <td>No</td>\n",
              "      <td>Yes</td>\n",
              "      <td>49</td>\n",
              "      <td>Yes</td>\n",
              "      <td>Yes</td>\n",
              "      <td>Fiber optic</td>\n",
              "      <td>No</td>\n",
              "      <td>Yes</td>\n",
              "      <td>Yes</td>\n",
              "      <td>No</td>\n",
              "      <td>Yes</td>\n",
              "      <td>Yes</td>\n",
              "      <td>103.70</td>\n",
              "      <td>1</td>\n",
              "    </tr>\n",
              "    <tr>\n",
              "      <th>...</th>\n",
              "      <td>...</td>\n",
              "      <td>...</td>\n",
              "      <td>...</td>\n",
              "      <td>...</td>\n",
              "      <td>...</td>\n",
              "      <td>...</td>\n",
              "      <td>...</td>\n",
              "      <td>...</td>\n",
              "      <td>...</td>\n",
              "      <td>...</td>\n",
              "      <td>...</td>\n",
              "      <td>...</td>\n",
              "      <td>...</td>\n",
              "      <td>...</td>\n",
              "      <td>...</td>\n",
              "      <td>...</td>\n",
              "      <td>...</td>\n",
              "      <td>...</td>\n",
              "      <td>...</td>\n",
              "      <td>...</td>\n",
              "    </tr>\n",
              "    <tr>\n",
              "      <th>7038</th>\n",
              "      <td>Landers</td>\n",
              "      <td>92285</td>\n",
              "      <td>34.341737</td>\n",
              "      <td>-116.539416</td>\n",
              "      <td>Female</td>\n",
              "      <td>No</td>\n",
              "      <td>No</td>\n",
              "      <td>No</td>\n",
              "      <td>72</td>\n",
              "      <td>Yes</td>\n",
              "      <td>No</td>\n",
              "      <td>No</td>\n",
              "      <td>No internet service</td>\n",
              "      <td>No internet service</td>\n",
              "      <td>No internet service</td>\n",
              "      <td>No internet service</td>\n",
              "      <td>No internet service</td>\n",
              "      <td>No internet service</td>\n",
              "      <td>21.15</td>\n",
              "      <td>0</td>\n",
              "    </tr>\n",
              "    <tr>\n",
              "      <th>7039</th>\n",
              "      <td>Adelanto</td>\n",
              "      <td>92301</td>\n",
              "      <td>34.667815</td>\n",
              "      <td>-117.536183</td>\n",
              "      <td>Male</td>\n",
              "      <td>No</td>\n",
              "      <td>Yes</td>\n",
              "      <td>Yes</td>\n",
              "      <td>24</td>\n",
              "      <td>Yes</td>\n",
              "      <td>Yes</td>\n",
              "      <td>DSL</td>\n",
              "      <td>Yes</td>\n",
              "      <td>No</td>\n",
              "      <td>Yes</td>\n",
              "      <td>Yes</td>\n",
              "      <td>Yes</td>\n",
              "      <td>Yes</td>\n",
              "      <td>84.80</td>\n",
              "      <td>0</td>\n",
              "    </tr>\n",
              "    <tr>\n",
              "      <th>7040</th>\n",
              "      <td>Amboy</td>\n",
              "      <td>92304</td>\n",
              "      <td>34.559882</td>\n",
              "      <td>-115.637164</td>\n",
              "      <td>Female</td>\n",
              "      <td>No</td>\n",
              "      <td>Yes</td>\n",
              "      <td>Yes</td>\n",
              "      <td>72</td>\n",
              "      <td>Yes</td>\n",
              "      <td>Yes</td>\n",
              "      <td>Fiber optic</td>\n",
              "      <td>No</td>\n",
              "      <td>Yes</td>\n",
              "      <td>Yes</td>\n",
              "      <td>No</td>\n",
              "      <td>Yes</td>\n",
              "      <td>Yes</td>\n",
              "      <td>103.20</td>\n",
              "      <td>0</td>\n",
              "    </tr>\n",
              "    <tr>\n",
              "      <th>7041</th>\n",
              "      <td>Angelus Oaks</td>\n",
              "      <td>92305</td>\n",
              "      <td>34.167800</td>\n",
              "      <td>-116.864330</td>\n",
              "      <td>Female</td>\n",
              "      <td>No</td>\n",
              "      <td>Yes</td>\n",
              "      <td>Yes</td>\n",
              "      <td>11</td>\n",
              "      <td>No</td>\n",
              "      <td>No phone service</td>\n",
              "      <td>DSL</td>\n",
              "      <td>Yes</td>\n",
              "      <td>No</td>\n",
              "      <td>No</td>\n",
              "      <td>No</td>\n",
              "      <td>No</td>\n",
              "      <td>No</td>\n",
              "      <td>29.60</td>\n",
              "      <td>0</td>\n",
              "    </tr>\n",
              "    <tr>\n",
              "      <th>7042</th>\n",
              "      <td>Apple Valley</td>\n",
              "      <td>92308</td>\n",
              "      <td>34.424926</td>\n",
              "      <td>-117.184503</td>\n",
              "      <td>Male</td>\n",
              "      <td>No</td>\n",
              "      <td>No</td>\n",
              "      <td>No</td>\n",
              "      <td>66</td>\n",
              "      <td>Yes</td>\n",
              "      <td>No</td>\n",
              "      <td>Fiber optic</td>\n",
              "      <td>Yes</td>\n",
              "      <td>No</td>\n",
              "      <td>Yes</td>\n",
              "      <td>Yes</td>\n",
              "      <td>Yes</td>\n",
              "      <td>Yes</td>\n",
              "      <td>105.65</td>\n",
              "      <td>0</td>\n",
              "    </tr>\n",
              "  </tbody>\n",
              "</table>\n",
              "<p>7043 rows × 20 columns</p>\n",
              "</div>"
            ],
            "text/plain": [
              "              City  Zip Code  ...  Monthly Charges  Churn Value\n",
              "0      Los Angeles     90003  ...            53.85            1\n",
              "1      Los Angeles     90005  ...            70.70            1\n",
              "2      Los Angeles     90006  ...            99.65            1\n",
              "3      Los Angeles     90010  ...           104.80            1\n",
              "4      Los Angeles     90015  ...           103.70            1\n",
              "...            ...       ...  ...              ...          ...\n",
              "7038       Landers     92285  ...            21.15            0\n",
              "7039      Adelanto     92301  ...            84.80            0\n",
              "7040         Amboy     92304  ...           103.20            0\n",
              "7041  Angelus Oaks     92305  ...            29.60            0\n",
              "7042  Apple Valley     92308  ...           105.65            0\n",
              "\n",
              "[7043 rows x 20 columns]"
            ]
          },
          "metadata": {},
          "execution_count": 4
        }
      ]
    },
    {
      "cell_type": "markdown",
      "metadata": {
        "id": "2apZUBoRZnJJ"
      },
      "source": [
        "##**Dicionário**\n",
        "\n",
        "---\n",
        "### Dados demográficos\n",
        "\n",
        "---\n",
        "\n",
        "Gender: O gênero do cliente: Masculino ou Feminino.\n",
        "\n",
        "Senior Citizen: Indica se a pessoa é idosa: Sim ou Não.\n",
        "\n",
        "Partner: Indica se o cliente tem um parceiro: Sim ou Não.\n",
        "\n",
        "Depedents: Indica se o cliente mora com algum dependente: Sim ou Não. (Os dependentes podem ser filhos, pais, avós, etc).\n",
        "\n",
        "---\n",
        "\n",
        "### Localização\n",
        "\n",
        "---\n",
        "\n",
        "City: A cidade da residência principal do cliente.\n",
        "\n",
        "Zip Code: O código postal da residência principal do cliente.\n",
        "\n",
        "Latitude: A latitude da residência principal do cliente.\n",
        "\n",
        "Longitude: A longitude da residência principal do cliente.\n",
        "\n",
        "---\n",
        "\n",
        "### Serviços\n",
        "\n",
        "---\n",
        "\n",
        "Tenure Months: Indica a quantidade total de meses que o cliente está com a empresa até o final do trimestre especificado acima.\n",
        "\n",
        "Phone Service: Indica se o cliente é assinante do serviço de telefone da empresa: Sim ou Não.\n",
        "\n",
        "Multiple Lines: Indica se o cliente é assinante de várias linhas telefônicas da empresa: Sim ou Não.\n",
        "\n",
        "Internet Service: Indica se o cliente é assinante do serviço de Internet da empresa: Não, DSL, Fibra Óptica, Cabo.\n",
        "\n",
        "Online Security: Indica se o cliente assina um serviço de segurança online adicional fornecido pela empresa: Sim ou Não.\n",
        "\n",
        "Online Backup: Indica se o cliente assina um serviço de Backup online adicional fornecido pela empresa: Sim ou Não.\n",
        "\n",
        "Device Protection: Indica se o cliente assina um plano de proteção de dispositivo adicional para seu equipamento de Internet fornecido pela empresa: Sim ou Não.\n",
        "\n",
        "Tech Support: Indica se o cliente assina um plano adicional de suporte técnico da empresa com tempos de espera reduzidos: Sim ou Não.\n",
        "\n",
        "Streaming TV: Indica se o cliente usa seu serviço de Internet para transmitir programas de televisão de um provedor terceirizado: Sim ou Não. (A empresa não cobra taxa adicional por esse serviço).\n",
        "\n",
        "Streaming Movies: Indica se o cliente usa seu serviço de Internet para transmitir filmes de um provedor terceirizado: Sim ou Não. (A empresa não cobra taxa adicional por esse serviço).\n",
        "\n",
        "Monthly Charges: Indica a cobrança mensal total atual do cliente por todos os seus serviços da empresa.\n",
        "\n",
        "---\n",
        "### Status\n",
        "---\n",
        "Churn Value: 1 = o cliente deixou a empresa neste trimestre. 0 = o cliente permaneceu na empresa.\n"
      ],
      "id": "2apZUBoRZnJJ"
    },
    {
      "cell_type": "code",
      "metadata": {
        "colab": {
          "base_uri": "https://localhost:8080/",
          "height": 694
        },
        "id": "I3193OjPf6iD",
        "outputId": "5d9de493-5f9b-40d2-a761-50e29b3ce4a4"
      },
      "source": [
        "def resumetable(df):\n",
        "    print(f\"Dataset Shape: {df.shape}\")\n",
        "    info = pd.DataFrame(df.dtypes,columns=['dtypes'])\n",
        "    info = info.reset_index()\n",
        "    info['Name'] = info['index']\n",
        "    info = info[['Name','dtypes']]\n",
        "    info['Missing'] = df.isnull().sum().values\n",
        "    info['Uniques'] = df.nunique().values\n",
        "    return info\n",
        "\n",
        "resumetable(df)"
      ],
      "id": "I3193OjPf6iD",
      "execution_count": null,
      "outputs": [
        {
          "output_type": "stream",
          "name": "stdout",
          "text": [
            "Dataset Shape: (7043, 20)\n"
          ]
        },
        {
          "output_type": "execute_result",
          "data": {
            "text/html": [
              "<div>\n",
              "<style scoped>\n",
              "    .dataframe tbody tr th:only-of-type {\n",
              "        vertical-align: middle;\n",
              "    }\n",
              "\n",
              "    .dataframe tbody tr th {\n",
              "        vertical-align: top;\n",
              "    }\n",
              "\n",
              "    .dataframe thead th {\n",
              "        text-align: right;\n",
              "    }\n",
              "</style>\n",
              "<table border=\"1\" class=\"dataframe\">\n",
              "  <thead>\n",
              "    <tr style=\"text-align: right;\">\n",
              "      <th></th>\n",
              "      <th>Name</th>\n",
              "      <th>dtypes</th>\n",
              "      <th>Missing</th>\n",
              "      <th>Uniques</th>\n",
              "    </tr>\n",
              "  </thead>\n",
              "  <tbody>\n",
              "    <tr>\n",
              "      <th>0</th>\n",
              "      <td>City</td>\n",
              "      <td>object</td>\n",
              "      <td>0</td>\n",
              "      <td>1129</td>\n",
              "    </tr>\n",
              "    <tr>\n",
              "      <th>1</th>\n",
              "      <td>Zip Code</td>\n",
              "      <td>int64</td>\n",
              "      <td>0</td>\n",
              "      <td>1652</td>\n",
              "    </tr>\n",
              "    <tr>\n",
              "      <th>2</th>\n",
              "      <td>Latitude</td>\n",
              "      <td>float64</td>\n",
              "      <td>0</td>\n",
              "      <td>1652</td>\n",
              "    </tr>\n",
              "    <tr>\n",
              "      <th>3</th>\n",
              "      <td>Longitude</td>\n",
              "      <td>float64</td>\n",
              "      <td>0</td>\n",
              "      <td>1651</td>\n",
              "    </tr>\n",
              "    <tr>\n",
              "      <th>4</th>\n",
              "      <td>Gender</td>\n",
              "      <td>object</td>\n",
              "      <td>0</td>\n",
              "      <td>2</td>\n",
              "    </tr>\n",
              "    <tr>\n",
              "      <th>5</th>\n",
              "      <td>Senior Citizen</td>\n",
              "      <td>object</td>\n",
              "      <td>0</td>\n",
              "      <td>2</td>\n",
              "    </tr>\n",
              "    <tr>\n",
              "      <th>6</th>\n",
              "      <td>Partner</td>\n",
              "      <td>object</td>\n",
              "      <td>0</td>\n",
              "      <td>2</td>\n",
              "    </tr>\n",
              "    <tr>\n",
              "      <th>7</th>\n",
              "      <td>Dependents</td>\n",
              "      <td>object</td>\n",
              "      <td>0</td>\n",
              "      <td>2</td>\n",
              "    </tr>\n",
              "    <tr>\n",
              "      <th>8</th>\n",
              "      <td>Tenure Months</td>\n",
              "      <td>int64</td>\n",
              "      <td>0</td>\n",
              "      <td>73</td>\n",
              "    </tr>\n",
              "    <tr>\n",
              "      <th>9</th>\n",
              "      <td>Phone Service</td>\n",
              "      <td>object</td>\n",
              "      <td>0</td>\n",
              "      <td>2</td>\n",
              "    </tr>\n",
              "    <tr>\n",
              "      <th>10</th>\n",
              "      <td>Multiple Lines</td>\n",
              "      <td>object</td>\n",
              "      <td>0</td>\n",
              "      <td>3</td>\n",
              "    </tr>\n",
              "    <tr>\n",
              "      <th>11</th>\n",
              "      <td>Internet Service</td>\n",
              "      <td>object</td>\n",
              "      <td>0</td>\n",
              "      <td>3</td>\n",
              "    </tr>\n",
              "    <tr>\n",
              "      <th>12</th>\n",
              "      <td>Online Security</td>\n",
              "      <td>object</td>\n",
              "      <td>0</td>\n",
              "      <td>3</td>\n",
              "    </tr>\n",
              "    <tr>\n",
              "      <th>13</th>\n",
              "      <td>Online Backup</td>\n",
              "      <td>object</td>\n",
              "      <td>0</td>\n",
              "      <td>3</td>\n",
              "    </tr>\n",
              "    <tr>\n",
              "      <th>14</th>\n",
              "      <td>Device Protection</td>\n",
              "      <td>object</td>\n",
              "      <td>0</td>\n",
              "      <td>3</td>\n",
              "    </tr>\n",
              "    <tr>\n",
              "      <th>15</th>\n",
              "      <td>Tech Support</td>\n",
              "      <td>object</td>\n",
              "      <td>0</td>\n",
              "      <td>3</td>\n",
              "    </tr>\n",
              "    <tr>\n",
              "      <th>16</th>\n",
              "      <td>Streaming TV</td>\n",
              "      <td>object</td>\n",
              "      <td>0</td>\n",
              "      <td>3</td>\n",
              "    </tr>\n",
              "    <tr>\n",
              "      <th>17</th>\n",
              "      <td>Streaming Movies</td>\n",
              "      <td>object</td>\n",
              "      <td>0</td>\n",
              "      <td>3</td>\n",
              "    </tr>\n",
              "    <tr>\n",
              "      <th>18</th>\n",
              "      <td>Monthly Charges</td>\n",
              "      <td>float64</td>\n",
              "      <td>0</td>\n",
              "      <td>1585</td>\n",
              "    </tr>\n",
              "    <tr>\n",
              "      <th>19</th>\n",
              "      <td>Churn Value</td>\n",
              "      <td>int64</td>\n",
              "      <td>0</td>\n",
              "      <td>2</td>\n",
              "    </tr>\n",
              "  </tbody>\n",
              "</table>\n",
              "</div>"
            ],
            "text/plain": [
              "                 Name   dtypes  Missing  Uniques\n",
              "0                City   object        0     1129\n",
              "1            Zip Code    int64        0     1652\n",
              "2            Latitude  float64        0     1652\n",
              "3           Longitude  float64        0     1651\n",
              "4              Gender   object        0        2\n",
              "5      Senior Citizen   object        0        2\n",
              "6             Partner   object        0        2\n",
              "7          Dependents   object        0        2\n",
              "8       Tenure Months    int64        0       73\n",
              "9       Phone Service   object        0        2\n",
              "10     Multiple Lines   object        0        3\n",
              "11   Internet Service   object        0        3\n",
              "12    Online Security   object        0        3\n",
              "13      Online Backup   object        0        3\n",
              "14  Device Protection   object        0        3\n",
              "15       Tech Support   object        0        3\n",
              "16       Streaming TV   object        0        3\n",
              "17   Streaming Movies   object        0        3\n",
              "18    Monthly Charges  float64        0     1585\n",
              "19        Churn Value    int64        0        2"
            ]
          },
          "metadata": {},
          "execution_count": 5
        }
      ]
    },
    {
      "cell_type": "markdown",
      "metadata": {
        "id": "sFHpjhLJvefW"
      },
      "source": [
        "#3. Exploratory Data Analysis (EDA)\n",
        "\n",
        "Aqui nessa seção, o interesse é entender como os atributos se relacionam com o Churn Value"
      ],
      "id": "sFHpjhLJvefW"
    },
    {
      "cell_type": "markdown",
      "metadata": {
        "id": "GUlCKO6UkV3D"
      },
      "source": [
        "### **Total de Churn**\n",
        "\n",
        "Total de clientes que fizeram churn ou não."
      ],
      "id": "GUlCKO6UkV3D"
    },
    {
      "cell_type": "code",
      "metadata": {
        "colab": {
          "base_uri": "https://localhost:8080/",
          "height": 282
        },
        "id": "DclFFyHEYk72",
        "outputId": "03fe49d0-cd83-4e4a-e1c9-167bd17e218b"
      },
      "source": [
        "valores_churn = df['Churn Value'].value_counts()\n",
        "legendas_churn = ['Total de não churn','Total de churn']\n",
        "plt.bar(legendas_churn, valores_churn )"
      ],
      "id": "DclFFyHEYk72",
      "execution_count": null,
      "outputs": [
        {
          "output_type": "execute_result",
          "data": {
            "text/plain": [
              "<BarContainer object of 2 artists>"
            ]
          },
          "metadata": {},
          "execution_count": 6
        },
        {
          "output_type": "display_data",
          "data": {
            "image/png": "[encoded data removed]",
            "text/plain": [
              "<Figure size 432x288 with 1 Axes>"
            ]
          },
          "metadata": {
            "needs_background": "light"
          }
        }
      ]
    },
    {
      "cell_type": "markdown",
      "metadata": {
        "id": "rL_dtMKNZdKC"
      },
      "source": [
        "### **Gêneros**\n",
        "\n",
        "Taxa de churn dos clientes do sexo feminino."
      ],
      "id": "rL_dtMKNZdKC"
    },
    {
      "cell_type": "code",
      "metadata": {
        "colab": {
          "base_uri": "https://localhost:8080/",
          "height": 282
        },
        "id": "P2GQjUxxOrPD",
        "outputId": "338f64d9-66f3-4ca2-bf28-27cf803cf2a2"
      },
      "source": [
        "df1 = df[['Gender', 'Churn Value']]\n",
        "df2 = df1.loc[df['Gender']=='Female']\n",
        "df6 = df2.loc[df['Churn Value']==1]\n",
        "df7 = df2.loc[df['Churn Value']==0]\n",
        "churn_mulheres = len(df6)\n",
        "nao_churn_mulheres = len(df7)\n",
        "legendas_churn = ['Churn de mulheres', 'Não churn de mulheres']\n",
        "valores_churn_mulher = [churn_mulheres, nao_churn_mulheres]\n",
        "plt.bar(legendas_churn, valores_churn_mulher)"
      ],
      "id": "P2GQjUxxOrPD",
      "execution_count": null,
      "outputs": [
        {
          "output_type": "execute_result",
          "data": {
            "text/plain": [
              "<BarContainer object of 2 artists>"
            ]
          },
          "metadata": {},
          "execution_count": 7
        },
        {
          "output_type": "display_data",
          "data": {
            "image/png": "[encoded data removed]",
            "text/plain": [
              "<Figure size 432x288 with 1 Axes>"
            ]
          },
          "metadata": {
            "needs_background": "light"
          }
        }
      ]
    },
    {
      "cell_type": "markdown",
      "metadata": {
        "id": "PbrqhMADi6F8"
      },
      "source": [
        "\n",
        "\n",
        "---\n",
        "\n",
        "\n",
        "Taxa de Churn dos clientes do sexo masculino.\n",
        "\n",
        "\n"
      ],
      "id": "PbrqhMADi6F8"
    },
    {
      "cell_type": "code",
      "metadata": {
        "colab": {
          "base_uri": "https://localhost:8080/",
          "height": 282
        },
        "id": "WPoVypOWD43A",
        "outputId": "faf9cd16-cd48-4d4c-e261-25774214d9fb"
      },
      "source": [
        "df1 = df[['Gender', 'Churn Value']]\n",
        "df2 = df1.loc[df['Gender']=='Male']\n",
        "df3 = df2.loc[df['Churn Value']==1]\n",
        "df4 = df2.loc[df['Churn Value']==0]\n",
        "churn_homens = len(df3)\n",
        "nao_churn_homens = len(df4)\n",
        "valores_churn = [churn_homens, nao_churn_homens]\n",
        "legendas_churn = ['Churn de homens', 'Não churn de homens']\n",
        "plt.bar(legendas_churn, valores_churn)"
      ],
      "id": "WPoVypOWD43A",
      "execution_count": null,
      "outputs": [
        {
          "output_type": "execute_result",
          "data": {
            "text/plain": [
              "<BarContainer object of 2 artists>"
            ]
          },
          "metadata": {},
          "execution_count": 8
        },
        {
          "output_type": "display_data",
          "data": {
            "image/png": "[encoded data removed]",
            "text/plain": [
              "<Figure size 432x288 with 1 Axes>"
            ]
          },
          "metadata": {
            "needs_background": "light"
          }
        }
      ]
    },
    {
      "cell_type": "markdown",
      "metadata": {
        "id": "JcTWIVMOk2Bz"
      },
      "source": [
        "\n",
        "\n",
        "---\n",
        "\n"
      ],
      "id": "JcTWIVMOk2Bz"
    },
    {
      "cell_type": "markdown",
      "metadata": {
        "id": "BYbCtiljsVAt"
      },
      "source": [
        "## **Serviço**\n",
        "\n",
        "Nessa subseção, iremos visualizar os totais de clientes que usam os serviços da empresa, e logo em seguida fazer análise se fizeram churn ou não em cada atributos.\n",
        "\n",
        "\n",
        "---\n",
        "\n",
        "\n",
        "\n",
        "*        Phone Service / Serviço Telefônica"
      ],
      "id": "BYbCtiljsVAt"
    },
    {
      "cell_type": "code",
      "metadata": {
        "colab": {
          "base_uri": "https://localhost:8080/",
          "height": 354
        },
        "id": "HPO36bakpWrc",
        "outputId": "ed0f15bd-b331-4757-989d-d6cecee5edc7"
      },
      "source": [
        "plt.figure(figsize=(16,12))\n",
        "\n",
        "plt.subplot(221)\n",
        "g = sns.countplot(x=df['Phone Service'], data=df,color=None)\n",
        "\n",
        "plt.subplot(222)\n",
        "g1 = sns.countplot(x=df['Phone Service'], hue = df['Churn Value'],data = df)"
      ],
      "id": "HPO36bakpWrc",
      "execution_count": null,
      "outputs": [
        {
          "output_type": "display_data",
          "data": {
            "image/png": "[encoded data removed]",
            "text/plain": [
              "<Figure size 1152x864 with 2 Axes>"
            ]
          },
          "metadata": {
            "needs_background": "light"
          }
        }
      ]
    },
    {
      "cell_type": "markdown",
      "metadata": {
        "id": "GsCKaz-YtEUX"
      },
      "source": [
        "\n",
        "\n",
        "---\n",
        "\n",
        "* Multiple Lines / Linhas Múltiplas"
      ],
      "id": "GsCKaz-YtEUX"
    },
    {
      "cell_type": "code",
      "metadata": {
        "colab": {
          "base_uri": "https://localhost:8080/",
          "height": 354
        },
        "id": "YgryG1sStwi2",
        "outputId": "073d530a-5af6-42a2-cc6e-d5296c8acd21"
      },
      "source": [
        "plt.figure(figsize=(16,12))\n",
        "\n",
        "plt.subplot(221)\n",
        "g = sns.countplot(x=df['Multiple Lines'], data=df,color=None)\n",
        "\n",
        "plt.subplot(222)\n",
        "g1 = sns.countplot(x=df['Multiple Lines'], hue = df['Churn Value'],data = df)\n"
      ],
      "id": "YgryG1sStwi2",
      "execution_count": null,
      "outputs": [
        {
          "output_type": "display_data",
          "data": {
            "image/png": "[encoded data removed]",
            "text/plain": [
              "<Figure size 1152x864 with 2 Axes>"
            ]
          },
          "metadata": {
            "needs_background": "light"
          }
        }
      ]
    },
    {
      "cell_type": "markdown",
      "metadata": {
        "id": "T3UE6ar4u3jH"
      },
      "source": [
        "\n",
        "\n",
        "---\n",
        "\n",
        "*   Internet Service / Serviço de Internet\n",
        "\n",
        "\n"
      ],
      "id": "T3UE6ar4u3jH"
    },
    {
      "cell_type": "code",
      "metadata": {
        "colab": {
          "base_uri": "https://localhost:8080/",
          "height": 354
        },
        "id": "LnGUu8b4vBqe",
        "outputId": "71e65a0c-dc8c-42e0-95a7-49c034fd2f3f"
      },
      "source": [
        "plt.figure(figsize=(16,12))\n",
        "\n",
        "plt.subplot(221)\n",
        "g = sns.countplot(x=df['Internet Service'], data=df,color=None)\n",
        "\n",
        "plt.subplot(222)\n",
        "g1 = sns.countplot(x=df['Internet Service'], hue = df['Churn Value'],data = df)\n"
      ],
      "id": "LnGUu8b4vBqe",
      "execution_count": null,
      "outputs": [
        {
          "output_type": "display_data",
          "data": {
            "image/png": "[encoded data removed]",
            "text/plain": [
              "<Figure size 1152x864 with 2 Axes>"
            ]
          },
          "metadata": {
            "needs_background": "light"
          }
        }
      ]
    },
    {
      "cell_type": "markdown",
      "metadata": {
        "id": "j8aYYr9WvI7O"
      },
      "source": [
        "\n",
        "\n",
        "---\n",
        "\n",
        "*   Online Security / Segurança Online"
      ],
      "id": "j8aYYr9WvI7O"
    },
    {
      "cell_type": "code",
      "metadata": {
        "colab": {
          "base_uri": "https://localhost:8080/",
          "height": 354
        },
        "id": "BaqUI_FmwLJw",
        "outputId": "712ae6a2-4dc6-4c64-ba6c-c3830330de4d"
      },
      "source": [
        "plt.figure(figsize=(16,12))\n",
        "\n",
        "plt.subplot(221)\n",
        "g = sns.countplot(x=df['Online Security'], data=df,color=None)\n",
        "\n",
        "plt.subplot(222)\n",
        "g1 = sns.countplot(x=df['Online Security'], hue = df['Churn Value'],data = df)"
      ],
      "id": "BaqUI_FmwLJw",
      "execution_count": null,
      "outputs": [
        {
          "output_type": "display_data",
          "data": {
            "image/png": "[encoded data removed]",
            "text/plain": [
              "<Figure size 1152x864 with 2 Axes>"
            ]
          },
          "metadata": {
            "needs_background": "light"
          }
        }
      ]
    },
    {
      "cell_type": "markdown",
      "metadata": {
        "id": "sHW64D3SxcfO"
      },
      "source": [
        "\n",
        "\n",
        "---\n",
        "\n",
        "\n",
        "* Online Backup"
      ],
      "id": "sHW64D3SxcfO"
    },
    {
      "cell_type": "code",
      "metadata": {
        "colab": {
          "base_uri": "https://localhost:8080/",
          "height": 358
        },
        "id": "TtjkoOJ6xZtH",
        "outputId": "cc61704f-b654-4d0f-f18f-82e917c7be98"
      },
      "source": [
        "plt.figure(figsize=(16,12))\n",
        "\n",
        "plt.subplot(221)\n",
        "g = sns.countplot(x=df['Online Backup'], data=df,color=None)\n",
        "\n",
        "plt.subplot(222)\n",
        "g1 = sns.countplot(x=df['Online Backup'], hue = df['Churn Value'],data = df)\n"
      ],
      "id": "TtjkoOJ6xZtH",
      "execution_count": null,
      "outputs": [
        {
          "output_type": "display_data",
          "data": {
            "image/png": "[encoded data removed]",
            "text/plain": [
              "<Figure size 1152x864 with 2 Axes>"
            ]
          },
          "metadata": {
            "needs_background": "light"
          }
        }
      ]
    },
    {
      "cell_type": "markdown",
      "metadata": {
        "id": "EnKEYxBXzlQB"
      },
      "source": [
        "\n",
        "\n",
        "---\n",
        "\n",
        "* Device Protection / Proteção de Dispositivo"
      ],
      "id": "EnKEYxBXzlQB"
    },
    {
      "cell_type": "code",
      "metadata": {
        "colab": {
          "base_uri": "https://localhost:8080/",
          "height": 354
        },
        "id": "XlxkcHIZzqL3",
        "outputId": "263b90ee-f9c2-43a3-ba12-e77cd2db2203"
      },
      "source": [
        "plt.figure(figsize=(16,12))\n",
        "\n",
        "plt.subplot(221)\n",
        "g = sns.countplot(x=df['Device Protection'], data=df,color=None)\n",
        "\n",
        "plt.subplot(222)\n",
        "g1 = sns.countplot(x=df['Device Protection'], hue = df['Churn Value'],data = df)\n"
      ],
      "id": "XlxkcHIZzqL3",
      "execution_count": null,
      "outputs": [
        {
          "output_type": "display_data",
          "data": {
            "image/png": "[encoded data removed]",
            "text/plain": [
              "<Figure size 1152x864 with 2 Axes>"
            ]
          },
          "metadata": {
            "needs_background": "light"
          }
        }
      ]
    },
    {
      "cell_type": "markdown",
      "metadata": {
        "id": "jMpj1Z6ZzuYv"
      },
      "source": [
        "\n",
        "\n",
        "---\n",
        "* Tech Support / Suporte Técnico\n"
      ],
      "id": "jMpj1Z6ZzuYv"
    },
    {
      "cell_type": "code",
      "metadata": {
        "colab": {
          "base_uri": "https://localhost:8080/",
          "height": 354
        },
        "id": "hAvtXzSmzzH4",
        "outputId": "414f3eed-570d-4001-93a9-56f406505a92"
      },
      "source": [
        "plt.figure(figsize=(16,12))\n",
        "\n",
        "plt.subplot(221)\n",
        "g = sns.countplot(x=df['Tech Support'], data=df,color=None)\n",
        "\n",
        "plt.subplot(222)\n",
        "g1 = sns.countplot(x=df['Tech Support'], hue = df['Churn Value'],data = df)"
      ],
      "id": "hAvtXzSmzzH4",
      "execution_count": null,
      "outputs": [
        {
          "output_type": "display_data",
          "data": {
            "image/png": "[encoded data removed]",
            "text/plain": [
              "<Figure size 1152x864 with 2 Axes>"
            ]
          },
          "metadata": {
            "needs_background": "light"
          }
        }
      ]
    },
    {
      "cell_type": "markdown",
      "metadata": {
        "id": "qvmKKVBPz1_Q"
      },
      "source": [
        "\n",
        "\n",
        "---\n",
        "\n",
        "* Streaming TV"
      ],
      "id": "qvmKKVBPz1_Q"
    },
    {
      "cell_type": "code",
      "metadata": {
        "colab": {
          "base_uri": "https://localhost:8080/",
          "height": 354
        },
        "id": "V7h4d4vfz8Io",
        "outputId": "1102b41b-79e6-4190-ec23-c3fdc516d6a4"
      },
      "source": [
        "plt.figure(figsize=(16,12))\n",
        "\n",
        "plt.subplot(221)\n",
        "g = sns.countplot(x=df['Streaming TV'], data=df,color=None)\n",
        "\n",
        "plt.subplot(222)\n",
        "g1 = sns.countplot(x=df['Streaming TV'], hue = df['Churn Value'],data = df)"
      ],
      "id": "V7h4d4vfz8Io",
      "execution_count": null,
      "outputs": [
        {
          "output_type": "display_data",
          "data": {
            "image/png": "[encoded data removed]",
            "text/plain": [
              "<Figure size 1152x864 with 2 Axes>"
            ]
          },
          "metadata": {
            "needs_background": "light"
          }
        }
      ]
    },
    {
      "cell_type": "markdown",
      "metadata": {
        "id": "34nryRdCz-jP"
      },
      "source": [
        "\n",
        "\n",
        "---\n",
        "\n",
        "* Streaming Movies / Filmes"
      ],
      "id": "34nryRdCz-jP"
    },
    {
      "cell_type": "code",
      "metadata": {
        "colab": {
          "base_uri": "https://localhost:8080/",
          "height": 357
        },
        "id": "rSy2ZBsC0BAa",
        "outputId": "74b7e862-737f-45c8-94a6-812eeaa627e4"
      },
      "source": [
        "plt.figure(figsize=(16,12))\n",
        "\n",
        "plt.subplot(221)\n",
        "g = sns.countplot(x=df['Streaming Movies'], data=df,color=None)\n",
        "\n",
        "plt.subplot(222)\n",
        "g1 = sns.countplot(x=df['Streaming Movies'], hue = df['Churn Value'],data = df)"
      ],
      "id": "rSy2ZBsC0BAa",
      "execution_count": null,
      "outputs": [
        {
          "output_type": "display_data",
          "data": {
            "image/png": "[encoded data removed]",
            "text/plain": [
              "<Figure size 1152x864 with 2 Axes>"
            ]
          },
          "metadata": {
            "needs_background": "light"
          }
        }
      ]
    },
    {
      "cell_type": "markdown",
      "metadata": {
        "id": "fnxUUW4Jkhtk"
      },
      "source": [
        "## **Localização**"
      ],
      "id": "fnxUUW4Jkhtk"
    },
    {
      "cell_type": "code",
      "metadata": {
        "colab": {
          "base_uri": "https://localhost:8080/"
        },
        "id": "hGte5e0EGEaB",
        "outputId": "109a4de9-a976-4888-d450-1653388a896d"
      },
      "source": [
        "df1 = df[['City', 'Churn Value']]\n",
        "df2 = df1.loc[df['Churn Value']==0]\n",
        "df2.value_counts().sort_values()\n"
      ],
      "id": "hGte5e0EGEaB",
      "execution_count": null,
      "outputs": [
        {
          "output_type": "execute_result",
          "data": {
            "text/plain": [
              "City           Churn Value\n",
              "Acampo         0                1\n",
              "Grizzly Flats  0                1\n",
              "Grimes         0                1\n",
              "Lewiston       0                1\n",
              "Ludlow         0                1\n",
              "                             ... \n",
              "San Francisco  0               73\n",
              "Sacramento     0               82\n",
              "San Jose       0               83\n",
              "San Diego      0              100\n",
              "Los Angeles    0              215\n",
              "Length: 1117, dtype: int64"
            ]
          },
          "metadata": {},
          "execution_count": 18
        }
      ]
    },
    {
      "cell_type": "code",
      "metadata": {
        "colab": {
          "base_uri": "https://localhost:8080/"
        },
        "id": "uFYjpa-hhjBA",
        "outputId": "c8c16ffb-a99f-4325-8c9a-edc632187b64"
      },
      "source": [
        "df1 = df[['City', 'Churn Value']]\n",
        "df2 = df1.loc[df['Churn Value']==1]\n",
        "df2.value_counts().sort_values()"
      ],
      "id": "uFYjpa-hhjBA",
      "execution_count": null,
      "outputs": [
        {
          "output_type": "execute_result",
          "data": {
            "text/plain": [
              "City           Churn Value\n",
              "Los Altos      1               1\n",
              "Campbell       1               1\n",
              "Denair         1               1\n",
              "Camino         1               1\n",
              "Beale Afb      1               1\n",
              "                              ..\n",
              "Sacramento     1              26\n",
              "San Jose       1              29\n",
              "San Francisco  1              31\n",
              "San Diego      1              50\n",
              "Los Angeles    1              90\n",
              "Length: 833, dtype: int64"
            ]
          },
          "metadata": {},
          "execution_count": 19
        }
      ]
    },
    {
      "cell_type": "markdown",
      "metadata": {
        "id": "UhvpK7s8k4Kj"
      },
      "source": [
        "\n",
        "\n",
        "---\n",
        "\n",
        "\n",
        "\n",
        "\n"
      ],
      "id": "UhvpK7s8k4Kj"
    },
    {
      "cell_type": "markdown",
      "metadata": {
        "id": "Kz7YfSWhvqyO"
      },
      "source": [
        "\n",
        "\n",
        "# 4.   Pré-processamento de Dados\n",
        "\n",
        "\n",
        "\n",
        "\n"
      ],
      "id": "Kz7YfSWhvqyO"
    },
    {
      "cell_type": "markdown",
      "metadata": {
        "id": "EHkRk2h82tkP"
      },
      "source": [
        "Nessa seção vamos realizar alguns procedimentos a serem tomados, não foi necessário fazer limpeza, precisando somente eliminar algumas colunas que são muitos únicas, transformando os dados categóricos em numéricos para podermos trabalhar com os modelos."
      ],
      "id": "EHkRk2h82tkP"
    },
    {
      "cell_type": "code",
      "metadata": {
        "id": "EXa4MD4fjW1y",
        "colab": {
          "base_uri": "https://localhost:8080/",
          "height": 461
        },
        "outputId": "00d26717-3f83-4c15-aebc-e2eccc871c00"
      },
      "source": [
        "df = df.replace({'No internet service': 0, 'No phone service': 0, 'Fiber optic': 1, 'DSL': 1, 'Yes': 1, 'No': 0, 'Female': 1, 'Male': 0})\n",
        "df = df.drop(['Monthly Charges','City','Zip Code','Latitude','Longitude'], axis=1)\n",
        "df"
      ],
      "id": "EXa4MD4fjW1y",
      "execution_count": null,
      "outputs": [
        {
          "output_type": "execute_result",
          "data": {
            "text/html": [
              "<div>\n",
              "<style scoped>\n",
              "    .dataframe tbody tr th:only-of-type {\n",
              "        vertical-align: middle;\n",
              "    }\n",
              "\n",
              "    .dataframe tbody tr th {\n",
              "        vertical-align: top;\n",
              "    }\n",
              "\n",
              "    .dataframe thead th {\n",
              "        text-align: right;\n",
              "    }\n",
              "</style>\n",
              "<table border=\"1\" class=\"dataframe\">\n",
              "  <thead>\n",
              "    <tr style=\"text-align: right;\">\n",
              "      <th></th>\n",
              "      <th>Gender</th>\n",
              "      <th>Senior Citizen</th>\n",
              "      <th>Partner</th>\n",
              "      <th>Dependents</th>\n",
              "      <th>Tenure Months</th>\n",
              "      <th>Phone Service</th>\n",
              "      <th>Multiple Lines</th>\n",
              "      <th>Internet Service</th>\n",
              "      <th>Online Security</th>\n",
              "      <th>Online Backup</th>\n",
              "      <th>Device Protection</th>\n",
              "      <th>Tech Support</th>\n",
              "      <th>Streaming TV</th>\n",
              "      <th>Streaming Movies</th>\n",
              "      <th>Churn Value</th>\n",
              "    </tr>\n",
              "  </thead>\n",
              "  <tbody>\n",
              "    <tr>\n",
              "      <th>0</th>\n",
              "      <td>0</td>\n",
              "      <td>0</td>\n",
              "      <td>0</td>\n",
              "      <td>0</td>\n",
              "      <td>2</td>\n",
              "      <td>1</td>\n",
              "      <td>0</td>\n",
              "      <td>1</td>\n",
              "      <td>1</td>\n",
              "      <td>1</td>\n",
              "      <td>0</td>\n",
              "      <td>0</td>\n",
              "      <td>0</td>\n",
              "      <td>0</td>\n",
              "      <td>1</td>\n",
              "    </tr>\n",
              "    <tr>\n",
              "      <th>1</th>\n",
              "      <td>1</td>\n",
              "      <td>0</td>\n",
              "      <td>0</td>\n",
              "      <td>1</td>\n",
              "      <td>2</td>\n",
              "      <td>1</td>\n",
              "      <td>0</td>\n",
              "      <td>1</td>\n",
              "      <td>0</td>\n",
              "      <td>0</td>\n",
              "      <td>0</td>\n",
              "      <td>0</td>\n",
              "      <td>0</td>\n",
              "      <td>0</td>\n",
              "      <td>1</td>\n",
              "    </tr>\n",
              "    <tr>\n",
              "      <th>2</th>\n",
              "      <td>1</td>\n",
              "      <td>0</td>\n",
              "      <td>0</td>\n",
              "      <td>1</td>\n",
              "      <td>8</td>\n",
              "      <td>1</td>\n",
              "      <td>1</td>\n",
              "      <td>1</td>\n",
              "      <td>0</td>\n",
              "      <td>0</td>\n",
              "      <td>1</td>\n",
              "      <td>0</td>\n",
              "      <td>1</td>\n",
              "      <td>1</td>\n",
              "      <td>1</td>\n",
              "    </tr>\n",
              "    <tr>\n",
              "      <th>3</th>\n",
              "      <td>1</td>\n",
              "      <td>0</td>\n",
              "      <td>1</td>\n",
              "      <td>1</td>\n",
              "      <td>28</td>\n",
              "      <td>1</td>\n",
              "      <td>1</td>\n",
              "      <td>1</td>\n",
              "      <td>0</td>\n",
              "      <td>0</td>\n",
              "      <td>1</td>\n",
              "      <td>1</td>\n",
              "      <td>1</td>\n",
              "      <td>1</td>\n",
              "      <td>1</td>\n",
              "    </tr>\n",
              "    <tr>\n",
              "      <th>4</th>\n",
              "      <td>0</td>\n",
              "      <td>0</td>\n",
              "      <td>0</td>\n",
              "      <td>1</td>\n",
              "      <td>49</td>\n",
              "      <td>1</td>\n",
              "      <td>1</td>\n",
              "      <td>1</td>\n",
              "      <td>0</td>\n",
              "      <td>1</td>\n",
              "      <td>1</td>\n",
              "      <td>0</td>\n",
              "      <td>1</td>\n",
              "      <td>1</td>\n",
              "      <td>1</td>\n",
              "    </tr>\n",
              "    <tr>\n",
              "      <th>...</th>\n",
              "      <td>...</td>\n",
              "      <td>...</td>\n",
              "      <td>...</td>\n",
              "      <td>...</td>\n",
              "      <td>...</td>\n",
              "      <td>...</td>\n",
              "      <td>...</td>\n",
              "      <td>...</td>\n",
              "      <td>...</td>\n",
              "      <td>...</td>\n",
              "      <td>...</td>\n",
              "      <td>...</td>\n",
              "      <td>...</td>\n",
              "      <td>...</td>\n",
              "      <td>...</td>\n",
              "    </tr>\n",
              "    <tr>\n",
              "      <th>7038</th>\n",
              "      <td>1</td>\n",
              "      <td>0</td>\n",
              "      <td>0</td>\n",
              "      <td>0</td>\n",
              "      <td>72</td>\n",
              "      <td>1</td>\n",
              "      <td>0</td>\n",
              "      <td>0</td>\n",
              "      <td>0</td>\n",
              "      <td>0</td>\n",
              "      <td>0</td>\n",
              "      <td>0</td>\n",
              "      <td>0</td>\n",
              "      <td>0</td>\n",
              "      <td>0</td>\n",
              "    </tr>\n",
              "    <tr>\n",
              "      <th>7039</th>\n",
              "      <td>0</td>\n",
              "      <td>0</td>\n",
              "      <td>1</td>\n",
              "      <td>1</td>\n",
              "      <td>24</td>\n",
              "      <td>1</td>\n",
              "      <td>1</td>\n",
              "      <td>1</td>\n",
              "      <td>1</td>\n",
              "      <td>0</td>\n",
              "      <td>1</td>\n",
              "      <td>1</td>\n",
              "      <td>1</td>\n",
              "      <td>1</td>\n",
              "      <td>0</td>\n",
              "    </tr>\n",
              "    <tr>\n",
              "      <th>7040</th>\n",
              "      <td>1</td>\n",
              "      <td>0</td>\n",
              "      <td>1</td>\n",
              "      <td>1</td>\n",
              "      <td>72</td>\n",
              "      <td>1</td>\n",
              "      <td>1</td>\n",
              "      <td>1</td>\n",
              "      <td>0</td>\n",
              "      <td>1</td>\n",
              "      <td>1</td>\n",
              "      <td>0</td>\n",
              "      <td>1</td>\n",
              "      <td>1</td>\n",
              "      <td>0</td>\n",
              "    </tr>\n",
              "    <tr>\n",
              "      <th>7041</th>\n",
              "      <td>1</td>\n",
              "      <td>0</td>\n",
              "      <td>1</td>\n",
              "      <td>1</td>\n",
              "      <td>11</td>\n",
              "      <td>0</td>\n",
              "      <td>0</td>\n",
              "      <td>1</td>\n",
              "      <td>1</td>\n",
              "      <td>0</td>\n",
              "      <td>0</td>\n",
              "      <td>0</td>\n",
              "      <td>0</td>\n",
              "      <td>0</td>\n",
              "      <td>0</td>\n",
              "    </tr>\n",
              "    <tr>\n",
              "      <th>7042</th>\n",
              "      <td>0</td>\n",
              "      <td>0</td>\n",
              "      <td>0</td>\n",
              "      <td>0</td>\n",
              "      <td>66</td>\n",
              "      <td>1</td>\n",
              "      <td>0</td>\n",
              "      <td>1</td>\n",
              "      <td>1</td>\n",
              "      <td>0</td>\n",
              "      <td>1</td>\n",
              "      <td>1</td>\n",
              "      <td>1</td>\n",
              "      <td>1</td>\n",
              "      <td>0</td>\n",
              "    </tr>\n",
              "  </tbody>\n",
              "</table>\n",
              "<p>7043 rows × 15 columns</p>\n",
              "</div>"
            ],
            "text/plain": [
              "      Gender  Senior Citizen  ...  Streaming Movies  Churn Value\n",
              "0          0               0  ...                 0            1\n",
              "1          1               0  ...                 0            1\n",
              "2          1               0  ...                 1            1\n",
              "3          1               0  ...                 1            1\n",
              "4          0               0  ...                 1            1\n",
              "...      ...             ...  ...               ...          ...\n",
              "7038       1               0  ...                 0            0\n",
              "7039       0               0  ...                 1            0\n",
              "7040       1               0  ...                 1            0\n",
              "7041       1               0  ...                 0            0\n",
              "7042       0               0  ...                 1            0\n",
              "\n",
              "[7043 rows x 15 columns]"
            ]
          },
          "metadata": {},
          "execution_count": 20
        }
      ]
    },
    {
      "cell_type": "code",
      "metadata": {
        "id": "pvfrLycRwHEH"
      },
      "source": [
        "config = dict(method='zip',\n",
        "                        archive_name='churn.csv')"
      ],
      "id": "pvfrLycRwHEH",
      "execution_count": null,
      "outputs": []
    },
    {
      "cell_type": "code",
      "metadata": {
        "id": "_rkB6ow3wIF2"
      },
      "source": [
        "df.to_csv('churn_final.zip', index=False,\n",
        "          compression=config)"
      ],
      "id": "_rkB6ow3wIF2",
      "execution_count": null,
      "outputs": []
    },
    {
      "cell_type": "markdown",
      "metadata": {
        "id": "WdqPmg9WwJ4W"
      },
      "source": [
        "# 5. Modelos"
      ],
      "id": "WdqPmg9WwJ4W"
    },
    {
      "cell_type": "markdown",
      "metadata": {
        "id": "hrkPVWqJ4rev"
      },
      "source": [
        "## SVM (Support Vector Machine)\n"
      ],
      "id": "hrkPVWqJ4rev"
    },
    {
      "cell_type": "code",
      "metadata": {
        "colab": {
          "base_uri": "https://localhost:8080/"
        },
        "id": "LDJFzRFWwNw3",
        "outputId": "619ede83-0e4d-4932-fdee-f405b0d1343d"
      },
      "source": [
        "# Atributos a serem considerados\n",
        "X = np.array(df.drop('Churn Value',1))\n",
        "X"
      ],
      "id": "LDJFzRFWwNw3",
      "execution_count": null,
      "outputs": [
        {
          "output_type": "execute_result",
          "data": {
            "text/plain": [
              "array([[0, 0, 0, ..., 0, 0, 0],\n",
              "       [1, 0, 0, ..., 0, 0, 0],\n",
              "       [1, 0, 0, ..., 0, 1, 1],\n",
              "       ...,\n",
              "       [1, 0, 1, ..., 0, 1, 1],\n",
              "       [1, 0, 1, ..., 0, 0, 0],\n",
              "       [0, 0, 0, ..., 1, 1, 1]])"
            ]
          },
          "metadata": {},
          "execution_count": 23
        }
      ]
    },
    {
      "cell_type": "code",
      "metadata": {
        "colab": {
          "base_uri": "https://localhost:8080/"
        },
        "id": "6tO0qooIwOWT",
        "outputId": "f7dd93c4-ab79-4e4d-acda-8abea9d6b095"
      },
      "source": [
        "# Classificação do Churn\n",
        "y = np.array(df['Churn Value'])\n",
        "y"
      ],
      "id": "6tO0qooIwOWT",
      "execution_count": null,
      "outputs": [
        {
          "output_type": "execute_result",
          "data": {
            "text/plain": [
              "array([1, 1, 1, ..., 0, 0, 0])"
            ]
          },
          "metadata": {},
          "execution_count": 24
        }
      ]
    },
    {
      "cell_type": "code",
      "metadata": {
        "id": "Ktu6E2frwQig"
      },
      "source": [
        "# Separando os X's e Y's para teste e treino (30% dos dados serão utilizados para teste)\n",
        "X_train, X_test, y_train, y_test = train_test_split(X, y, test_size = 0.30)"
      ],
      "id": "Ktu6E2frwQig",
      "execution_count": null,
      "outputs": []
    },
    {
      "cell_type": "code",
      "metadata": {
        "id": "IlHrbiiBwR7G"
      },
      "source": [
        "# Algoritmo SVM\n",
        "svm = svm.SVC(C=1.0)"
      ],
      "id": "IlHrbiiBwR7G",
      "execution_count": null,
      "outputs": []
    },
    {
      "cell_type": "code",
      "metadata": {
        "colab": {
          "base_uri": "https://localhost:8080/"
        },
        "id": "MoSNlISbwUSH",
        "outputId": "16b6d7d3-602e-4ba5-b737-7542bb7e73bd"
      },
      "source": [
        "# Normalização dos valores X_train e y_train com a função 'fit()'\n",
        "svm.fit(X_train, y_train)"
      ],
      "id": "MoSNlISbwUSH",
      "execution_count": null,
      "outputs": [
        {
          "output_type": "execute_result",
          "data": {
            "text/plain": [
              "SVC()"
            ]
          },
          "metadata": {},
          "execution_count": 27
        }
      ]
    },
    {
      "cell_type": "code",
      "metadata": {
        "id": "COg2k4tiwVsm",
        "colab": {
          "base_uri": "https://localhost:8080/"
        },
        "outputId": "03cf1671-a90a-4760-9994-402ee4186efa"
      },
      "source": [
        "# y_pred = valores preditos\n",
        "y_pred = svm.predict(X_test)\n",
        "y_pred"
      ],
      "id": "COg2k4tiwVsm",
      "execution_count": null,
      "outputs": [
        {
          "output_type": "execute_result",
          "data": {
            "text/plain": [
              "array([0, 0, 0, ..., 1, 0, 0])"
            ]
          },
          "metadata": {},
          "execution_count": 28
        }
      ]
    },
    {
      "cell_type": "code",
      "metadata": {
        "id": "PRpibV9fwYNI",
        "colab": {
          "base_uri": "https://localhost:8080/"
        },
        "outputId": "39b2be89-533a-4351-c62c-32e24693805a"
      },
      "source": [
        "# y_test = valores testados\n",
        "y_test"
      ],
      "id": "PRpibV9fwYNI",
      "execution_count": null,
      "outputs": [
        {
          "output_type": "execute_result",
          "data": {
            "text/plain": [
              "array([0, 0, 0, ..., 0, 0, 0])"
            ]
          },
          "metadata": {},
          "execution_count": 29
        }
      ]
    },
    {
      "cell_type": "code",
      "metadata": {
        "id": "9hFNWnx2wZ4x",
        "colab": {
          "base_uri": "https://localhost:8080/"
        },
        "outputId": "8dbe53e8-4ce5-4234-be0c-8973e1a2a0f4"
      },
      "source": [
        "print(classification_report(y_test, y_pred, target_names = ['0','1']))"
      ],
      "id": "9hFNWnx2wZ4x",
      "execution_count": null,
      "outputs": [
        {
          "output_type": "stream",
          "name": "stdout",
          "text": [
            "              precision    recall  f1-score   support\n",
            "\n",
            "           0       0.82      0.89      0.85      1584\n",
            "           1       0.56      0.41      0.47       529\n",
            "\n",
            "    accuracy                           0.77      2113\n",
            "   macro avg       0.69      0.65      0.66      2113\n",
            "weighted avg       0.75      0.77      0.76      2113\n",
            "\n"
          ]
        }
      ]
    },
    {
      "cell_type": "code",
      "metadata": {
        "id": "tT2B0_DDwbXn",
        "colab": {
          "base_uri": "https://localhost:8080/",
          "height": 353
        },
        "outputId": "bbbed8d4-0a6a-4c29-e878-b2dc5021dabb"
      },
      "source": [
        "from sklearn.metrics import plot_confusion_matrix\n",
        "\n",
        "plot_confusion_matrix(svm, X_test, y_test)"
      ],
      "id": "tT2B0_DDwbXn",
      "execution_count": null,
      "outputs": [
        {
          "output_type": "stream",
          "name": "stderr",
          "text": [
            "/usr/local/lib/python3.7/dist-packages/sklearn/utils/deprecation.py:87: FutureWarning: Function plot_confusion_matrix is deprecated; Function `plot_confusion_matrix` is deprecated in 1.0 and will be removed in 1.2. Use one of the class methods: ConfusionMatrixDisplay.from_predictions or ConfusionMatrixDisplay.from_estimator.\n",
            "  warnings.warn(msg, category=FutureWarning)\n"
          ]
        },
        {
          "output_type": "execute_result",
          "data": {
            "text/plain": [
              "<sklearn.metrics._plot.confusion_matrix.ConfusionMatrixDisplay at 0x7f66cffe9ed0>"
            ]
          },
          "metadata": {},
          "execution_count": 31
        },
        {
          "output_type": "display_data",
          "data": {
            "image/png": "[encoded data removed]",
            "text/plain": [
              "<Figure size 432x288 with 2 Axes>"
            ]
          },
          "metadata": {
            "needs_background": "light"
          }
        }
      ]
    },
    {
      "cell_type": "code",
      "metadata": {
        "id": "VBnT37k_werX",
        "colab": {
          "base_uri": "https://localhost:8080/"
        },
        "outputId": "69a8f38b-0027-473f-9de7-56ee32aa798d"
      },
      "source": [
        "arq_svm = 'SVM_Churn.sav'\n",
        "joblib.dump(svm,arq_svm)"
      ],
      "id": "VBnT37k_werX",
      "execution_count": null,
      "outputs": [
        {
          "output_type": "execute_result",
          "data": {
            "text/plain": [
              "['SVM_Churn.sav']"
            ]
          },
          "metadata": {},
          "execution_count": 33
        }
      ]
    },
    {
      "cell_type": "code",
      "metadata": {
        "id": "T2dALbaKwgke",
        "colab": {
          "base_uri": "https://localhost:8080/"
        },
        "outputId": "a9fd968f-deec-405f-fc0e-bd40ffe18c16"
      },
      "source": [
        "svm_carregado = joblib.load(arq_svm)\n",
        "resultado = svm_carregado.score(X_test, y_test)\n",
        "print(resultado)"
      ],
      "id": "T2dALbaKwgke",
      "execution_count": null,
      "outputs": [
        {
          "output_type": "stream",
          "name": "stdout",
          "text": [
            "0.7718883104590629\n"
          ]
        }
      ]
    },
    {
      "cell_type": "markdown",
      "metadata": {
        "id": "O9n_gYg5cUI4"
      },
      "source": [
        "## Árvore de Decisão"
      ],
      "id": "O9n_gYg5cUI4"
    },
    {
      "cell_type": "code",
      "metadata": {
        "id": "biWKjBRkwh8n"
      },
      "source": [
        "# Algoritmo da árvore de decisão\n",
        "arv = tree.DecisionTreeClassifier()"
      ],
      "id": "biWKjBRkwh8n",
      "execution_count": null,
      "outputs": []
    },
    {
      "cell_type": "code",
      "metadata": {
        "id": "0SHCXVTRwjlY",
        "colab": {
          "base_uri": "https://localhost:8080/"
        },
        "outputId": "07609b10-697b-4c96-a8fd-29299e9ce3c9"
      },
      "source": [
        "arv.fit(X_train,y_train)"
      ],
      "id": "0SHCXVTRwjlY",
      "execution_count": null,
      "outputs": [
        {
          "output_type": "execute_result",
          "data": {
            "text/plain": [
              "DecisionTreeClassifier()"
            ]
          },
          "metadata": {},
          "execution_count": 36
        }
      ]
    },
    {
      "cell_type": "code",
      "metadata": {
        "id": "-MOSYVJqwk1-",
        "colab": {
          "base_uri": "https://localhost:8080/"
        },
        "outputId": "28d63b5c-3af7-4ad3-a5c7-3b58086b9f52"
      },
      "source": [
        "# y_pred = valores preditos\n",
        "y_pred = arv.predict(X_test)\n",
        "y_pred"
      ],
      "id": "-MOSYVJqwk1-",
      "execution_count": null,
      "outputs": [
        {
          "output_type": "execute_result",
          "data": {
            "text/plain": [
              "array([0, 0, 0, ..., 0, 0, 0])"
            ]
          },
          "metadata": {},
          "execution_count": 37
        }
      ]
    },
    {
      "cell_type": "code",
      "metadata": {
        "id": "SEtcGMVDwlUm",
        "colab": {
          "base_uri": "https://localhost:8080/"
        },
        "outputId": "5a9ca0f5-1014-4523-93fd-5299a0c64391"
      },
      "source": [
        "# y_test = valores testados\n",
        "y_test"
      ],
      "id": "SEtcGMVDwlUm",
      "execution_count": null,
      "outputs": [
        {
          "output_type": "execute_result",
          "data": {
            "text/plain": [
              "array([0, 0, 0, ..., 0, 0, 0])"
            ]
          },
          "metadata": {},
          "execution_count": 38
        }
      ]
    },
    {
      "cell_type": "code",
      "metadata": {
        "id": "zhV9Cpy0wmaJ",
        "colab": {
          "base_uri": "https://localhost:8080/"
        },
        "outputId": "f58c79e4-7b92-4cc9-9740-937f5d8b9312"
      },
      "source": [
        "print(classification_report(y_test, y_pred, target_names = ['0','1']))"
      ],
      "id": "zhV9Cpy0wmaJ",
      "execution_count": null,
      "outputs": [
        {
          "output_type": "stream",
          "name": "stdout",
          "text": [
            "              precision    recall  f1-score   support\n",
            "\n",
            "           0       0.83      0.82      0.83      1584\n",
            "           1       0.48      0.51      0.49       529\n",
            "\n",
            "    accuracy                           0.74      2113\n",
            "   macro avg       0.66      0.66      0.66      2113\n",
            "weighted avg       0.74      0.74      0.74      2113\n",
            "\n"
          ]
        }
      ]
    },
    {
      "cell_type": "code",
      "metadata": {
        "id": "iTufidF8wo1o",
        "colab": {
          "base_uri": "https://localhost:8080/",
          "height": 351
        },
        "outputId": "cd866722-cc45-42c7-8077-c6d4c6301b78"
      },
      "source": [
        "plot_confusion_matrix(arv, X_test, y_test)"
      ],
      "id": "iTufidF8wo1o",
      "execution_count": null,
      "outputs": [
        {
          "output_type": "stream",
          "name": "stderr",
          "text": [
            "/usr/local/lib/python3.7/dist-packages/sklearn/utils/deprecation.py:87: FutureWarning: Function plot_confusion_matrix is deprecated; Function `plot_confusion_matrix` is deprecated in 1.0 and will be removed in 1.2. Use one of the class methods: ConfusionMatrixDisplay.from_predictions or ConfusionMatrixDisplay.from_estimator.\n",
            "  warnings.warn(msg, category=FutureWarning)\n"
          ]
        },
        {
          "output_type": "execute_result",
          "data": {
            "text/plain": [
              "<sklearn.metrics._plot.confusion_matrix.ConfusionMatrixDisplay at 0x7f66cfc45350>"
            ]
          },
          "metadata": {},
          "execution_count": 40
        },
        {
          "output_type": "display_data",
          "data": {
            "image/png": "[encoded data removed]",
            "text/plain": [
              "<Figure size 432x288 with 2 Axes>"
            ]
          },
          "metadata": {
            "needs_background": "light"
          }
        }
      ]
    },
    {
      "cell_type": "code",
      "metadata": {
        "id": "HE8N3OnYwqLn",
        "colab": {
          "base_uri": "https://localhost:8080/"
        },
        "outputId": "c363cb50-14f8-43ca-8a0b-9da9dbf75a49"
      },
      "source": [
        "arq_arv = 'ARV_Churn.sav'\n",
        "joblib.dump(arv,arq_arv)"
      ],
      "id": "HE8N3OnYwqLn",
      "execution_count": null,
      "outputs": [
        {
          "output_type": "execute_result",
          "data": {
            "text/plain": [
              "['ARV_Churn.sav']"
            ]
          },
          "metadata": {},
          "execution_count": 41
        }
      ]
    },
    {
      "cell_type": "code",
      "metadata": {
        "id": "SFtuIUdRwsGf",
        "colab": {
          "base_uri": "https://localhost:8080/"
        },
        "outputId": "224f08dd-a487-4383-ba21-83fd1bc3998c"
      },
      "source": [
        "arv_carregado = joblib.load(arq_arv)\n",
        "resultado = arv_carregado.score(X_test, y_test)\n",
        "print(resultado)"
      ],
      "id": "SFtuIUdRwsGf",
      "execution_count": null,
      "outputs": [
        {
          "output_type": "stream",
          "name": "stdout",
          "text": [
            "0.7401798390913393\n"
          ]
        }
      ]
    },
    {
      "cell_type": "markdown",
      "metadata": {
        "id": "FAKQWcHTcb53"
      },
      "source": [
        "## K-Means"
      ],
      "id": "FAKQWcHTcb53"
    },
    {
      "cell_type": "code",
      "metadata": {
        "id": "kS_dchCLRhXE"
      },
      "source": [
        "scaler = StandardScaler()\n",
        "x = scaler.fit_transform(df)\n",
        "inertias = []\n",
        "mapping = []\n",
        "K = range(1, 10)\n",
        "\n",
        "for k in K:\n",
        "    kmean = KMeans(n_clusters=k, n_init=12).fit(x)\n",
        "    kmean.fit(x)\n",
        "    inertias.append(kmean.inertia_)\n",
        "    mapping.append(k)\n",
        "\n"
      ],
      "id": "kS_dchCLRhXE",
      "execution_count": null,
      "outputs": []
    },
    {
      "cell_type": "code",
      "metadata": {
        "id": "Qxd4ZeK2fDf6",
        "colab": {
          "base_uri": "https://localhost:8080/",
          "height": 295
        },
        "outputId": "f30d10a5-6e99-45ce-8aa5-e1b7a3694e99"
      },
      "source": [
        "plt.plot(K, inertias, 'ko-')\n",
        "plt.xlabel('Valores de K')\n",
        "plt.ylabel('Distortion')\n",
        "plt.title('Metodo \"Elbow\"')\n",
        "plt.show()"
      ],
      "id": "Qxd4ZeK2fDf6",
      "execution_count": null,
      "outputs": [
        {
          "output_type": "display_data",
          "data": {
            "image/png": "[encoded data removed]",
            "text/plain": [
              "<Figure size 432x288 with 1 Axes>"
            ]
          },
          "metadata": {
            "needs_background": "light"
          }
        }
      ]
    },
    {
      "cell_type": "code",
      "metadata": {
        "id": "4noqKiU7fB_t"
      },
      "source": [
        "k = KMeans(n_clusters = 5)\n",
        "pred = k.fit_predict(x)"
      ],
      "id": "4noqKiU7fB_t",
      "execution_count": null,
      "outputs": []
    },
    {
      "cell_type": "code",
      "metadata": {
        "id": "vcs2snn_gvXf",
        "colab": {
          "base_uri": "https://localhost:8080/",
          "height": 461
        },
        "outputId": "45eccdfa-c884-49c8-ce32-35456c8ed143"
      },
      "source": [
        "df['Grupo'] = pred\n",
        "df"
      ],
      "id": "vcs2snn_gvXf",
      "execution_count": null,
      "outputs": [
        {
          "output_type": "execute_result",
          "data": {
            "text/html": [
              "<div>\n",
              "<style scoped>\n",
              "    .dataframe tbody tr th:only-of-type {\n",
              "        vertical-align: middle;\n",
              "    }\n",
              "\n",
              "    .dataframe tbody tr th {\n",
              "        vertical-align: top;\n",
              "    }\n",
              "\n",
              "    .dataframe thead th {\n",
              "        text-align: right;\n",
              "    }\n",
              "</style>\n",
              "<table border=\"1\" class=\"dataframe\">\n",
              "  <thead>\n",
              "    <tr style=\"text-align: right;\">\n",
              "      <th></th>\n",
              "      <th>Gender</th>\n",
              "      <th>Senior Citizen</th>\n",
              "      <th>Partner</th>\n",
              "      <th>Dependents</th>\n",
              "      <th>Tenure Months</th>\n",
              "      <th>Phone Service</th>\n",
              "      <th>Multiple Lines</th>\n",
              "      <th>Internet Service</th>\n",
              "      <th>Online Security</th>\n",
              "      <th>Online Backup</th>\n",
              "      <th>Device Protection</th>\n",
              "      <th>Tech Support</th>\n",
              "      <th>Streaming TV</th>\n",
              "      <th>Streaming Movies</th>\n",
              "      <th>Churn Value</th>\n",
              "      <th>clusters</th>\n",
              "      <th>Grupo</th>\n",
              "    </tr>\n",
              "  </thead>\n",
              "  <tbody>\n",
              "    <tr>\n",
              "      <th>0</th>\n",
              "      <td>0</td>\n",
              "      <td>0</td>\n",
              "      <td>0</td>\n",
              "      <td>0</td>\n",
              "      <td>2</td>\n",
              "      <td>1</td>\n",
              "      <td>0</td>\n",
              "      <td>1</td>\n",
              "      <td>1</td>\n",
              "      <td>1</td>\n",
              "      <td>0</td>\n",
              "      <td>0</td>\n",
              "      <td>0</td>\n",
              "      <td>0</td>\n",
              "      <td>1</td>\n",
              "      <td>3</td>\n",
              "      <td>0</td>\n",
              "    </tr>\n",
              "    <tr>\n",
              "      <th>1</th>\n",
              "      <td>1</td>\n",
              "      <td>0</td>\n",
              "      <td>0</td>\n",
              "      <td>1</td>\n",
              "      <td>2</td>\n",
              "      <td>1</td>\n",
              "      <td>0</td>\n",
              "      <td>1</td>\n",
              "      <td>0</td>\n",
              "      <td>0</td>\n",
              "      <td>0</td>\n",
              "      <td>0</td>\n",
              "      <td>0</td>\n",
              "      <td>0</td>\n",
              "      <td>1</td>\n",
              "      <td>3</td>\n",
              "      <td>0</td>\n",
              "    </tr>\n",
              "    <tr>\n",
              "      <th>2</th>\n",
              "      <td>1</td>\n",
              "      <td>0</td>\n",
              "      <td>0</td>\n",
              "      <td>1</td>\n",
              "      <td>8</td>\n",
              "      <td>1</td>\n",
              "      <td>1</td>\n",
              "      <td>1</td>\n",
              "      <td>0</td>\n",
              "      <td>0</td>\n",
              "      <td>1</td>\n",
              "      <td>0</td>\n",
              "      <td>1</td>\n",
              "      <td>1</td>\n",
              "      <td>1</td>\n",
              "      <td>3</td>\n",
              "      <td>0</td>\n",
              "    </tr>\n",
              "    <tr>\n",
              "      <th>3</th>\n",
              "      <td>1</td>\n",
              "      <td>0</td>\n",
              "      <td>1</td>\n",
              "      <td>1</td>\n",
              "      <td>28</td>\n",
              "      <td>1</td>\n",
              "      <td>1</td>\n",
              "      <td>1</td>\n",
              "      <td>0</td>\n",
              "      <td>0</td>\n",
              "      <td>1</td>\n",
              "      <td>1</td>\n",
              "      <td>1</td>\n",
              "      <td>1</td>\n",
              "      <td>1</td>\n",
              "      <td>2</td>\n",
              "      <td>3</td>\n",
              "    </tr>\n",
              "    <tr>\n",
              "      <th>4</th>\n",
              "      <td>0</td>\n",
              "      <td>0</td>\n",
              "      <td>0</td>\n",
              "      <td>1</td>\n",
              "      <td>49</td>\n",
              "      <td>1</td>\n",
              "      <td>1</td>\n",
              "      <td>1</td>\n",
              "      <td>0</td>\n",
              "      <td>1</td>\n",
              "      <td>1</td>\n",
              "      <td>0</td>\n",
              "      <td>1</td>\n",
              "      <td>1</td>\n",
              "      <td>1</td>\n",
              "      <td>4</td>\n",
              "      <td>3</td>\n",
              "    </tr>\n",
              "    <tr>\n",
              "      <th>...</th>\n",
              "      <td>...</td>\n",
              "      <td>...</td>\n",
              "      <td>...</td>\n",
              "      <td>...</td>\n",
              "      <td>...</td>\n",
              "      <td>...</td>\n",
              "      <td>...</td>\n",
              "      <td>...</td>\n",
              "      <td>...</td>\n",
              "      <td>...</td>\n",
              "      <td>...</td>\n",
              "      <td>...</td>\n",
              "      <td>...</td>\n",
              "      <td>...</td>\n",
              "      <td>...</td>\n",
              "      <td>...</td>\n",
              "      <td>...</td>\n",
              "    </tr>\n",
              "    <tr>\n",
              "      <th>7038</th>\n",
              "      <td>1</td>\n",
              "      <td>0</td>\n",
              "      <td>0</td>\n",
              "      <td>0</td>\n",
              "      <td>72</td>\n",
              "      <td>1</td>\n",
              "      <td>0</td>\n",
              "      <td>0</td>\n",
              "      <td>0</td>\n",
              "      <td>0</td>\n",
              "      <td>0</td>\n",
              "      <td>0</td>\n",
              "      <td>0</td>\n",
              "      <td>0</td>\n",
              "      <td>0</td>\n",
              "      <td>0</td>\n",
              "      <td>2</td>\n",
              "    </tr>\n",
              "    <tr>\n",
              "      <th>7039</th>\n",
              "      <td>0</td>\n",
              "      <td>0</td>\n",
              "      <td>1</td>\n",
              "      <td>1</td>\n",
              "      <td>24</td>\n",
              "      <td>1</td>\n",
              "      <td>1</td>\n",
              "      <td>1</td>\n",
              "      <td>1</td>\n",
              "      <td>0</td>\n",
              "      <td>1</td>\n",
              "      <td>1</td>\n",
              "      <td>1</td>\n",
              "      <td>1</td>\n",
              "      <td>0</td>\n",
              "      <td>1</td>\n",
              "      <td>3</td>\n",
              "    </tr>\n",
              "    <tr>\n",
              "      <th>7040</th>\n",
              "      <td>1</td>\n",
              "      <td>0</td>\n",
              "      <td>1</td>\n",
              "      <td>1</td>\n",
              "      <td>72</td>\n",
              "      <td>1</td>\n",
              "      <td>1</td>\n",
              "      <td>1</td>\n",
              "      <td>0</td>\n",
              "      <td>1</td>\n",
              "      <td>1</td>\n",
              "      <td>0</td>\n",
              "      <td>1</td>\n",
              "      <td>1</td>\n",
              "      <td>0</td>\n",
              "      <td>0</td>\n",
              "      <td>3</td>\n",
              "    </tr>\n",
              "    <tr>\n",
              "      <th>7041</th>\n",
              "      <td>1</td>\n",
              "      <td>0</td>\n",
              "      <td>1</td>\n",
              "      <td>1</td>\n",
              "      <td>11</td>\n",
              "      <td>0</td>\n",
              "      <td>0</td>\n",
              "      <td>1</td>\n",
              "      <td>1</td>\n",
              "      <td>0</td>\n",
              "      <td>0</td>\n",
              "      <td>0</td>\n",
              "      <td>0</td>\n",
              "      <td>0</td>\n",
              "      <td>0</td>\n",
              "      <td>3</td>\n",
              "      <td>1</td>\n",
              "    </tr>\n",
              "    <tr>\n",
              "      <th>7042</th>\n",
              "      <td>0</td>\n",
              "      <td>0</td>\n",
              "      <td>0</td>\n",
              "      <td>0</td>\n",
              "      <td>66</td>\n",
              "      <td>1</td>\n",
              "      <td>0</td>\n",
              "      <td>1</td>\n",
              "      <td>1</td>\n",
              "      <td>0</td>\n",
              "      <td>1</td>\n",
              "      <td>1</td>\n",
              "      <td>1</td>\n",
              "      <td>1</td>\n",
              "      <td>0</td>\n",
              "      <td>0</td>\n",
              "      <td>3</td>\n",
              "    </tr>\n",
              "  </tbody>\n",
              "</table>\n",
              "<p>7043 rows × 17 columns</p>\n",
              "</div>"
            ],
            "text/plain": [
              "      Gender  Senior Citizen  Partner  ...  Churn Value  clusters  Grupo\n",
              "0          0               0        0  ...            1         3      0\n",
              "1          1               0        0  ...            1         3      0\n",
              "2          1               0        0  ...            1         3      0\n",
              "3          1               0        1  ...            1         2      3\n",
              "4          0               0        0  ...            1         4      3\n",
              "...      ...             ...      ...  ...          ...       ...    ...\n",
              "7038       1               0        0  ...            0         0      2\n",
              "7039       0               0        1  ...            0         1      3\n",
              "7040       1               0        1  ...            0         0      3\n",
              "7041       1               0        1  ...            0         3      1\n",
              "7042       0               0        0  ...            0         0      3\n",
              "\n",
              "[7043 rows x 17 columns]"
            ]
          },
          "metadata": {},
          "execution_count": 47
        }
      ]
    },
    {
      "cell_type": "code",
      "metadata": {
        "id": "3d0c9d07",
        "colab": {
          "base_uri": "https://localhost:8080/",
          "height": 275
        },
        "outputId": "f4ef0daa-f560-49f4-be8f-9ca6e6445129"
      },
      "source": [
        "df.groupby(['Grupo']).mean()"
      ],
      "id": "3d0c9d07",
      "execution_count": null,
      "outputs": [
        {
          "output_type": "execute_result",
          "data": {
            "text/html": [
              "<div>\n",
              "<style scoped>\n",
              "    .dataframe tbody tr th:only-of-type {\n",
              "        vertical-align: middle;\n",
              "    }\n",
              "\n",
              "    .dataframe tbody tr th {\n",
              "        vertical-align: top;\n",
              "    }\n",
              "\n",
              "    .dataframe thead th {\n",
              "        text-align: right;\n",
              "    }\n",
              "</style>\n",
              "<table border=\"1\" class=\"dataframe\">\n",
              "  <thead>\n",
              "    <tr style=\"text-align: right;\">\n",
              "      <th></th>\n",
              "      <th>Gender</th>\n",
              "      <th>Senior Citizen</th>\n",
              "      <th>Partner</th>\n",
              "      <th>Dependents</th>\n",
              "      <th>Tenure Months</th>\n",
              "      <th>Phone Service</th>\n",
              "      <th>Multiple Lines</th>\n",
              "      <th>Internet Service</th>\n",
              "      <th>Online Security</th>\n",
              "      <th>Online Backup</th>\n",
              "      <th>Device Protection</th>\n",
              "      <th>Tech Support</th>\n",
              "      <th>Streaming TV</th>\n",
              "      <th>Streaming Movies</th>\n",
              "      <th>Churn Value</th>\n",
              "      <th>clusters</th>\n",
              "    </tr>\n",
              "    <tr>\n",
              "      <th>Grupo</th>\n",
              "      <th></th>\n",
              "      <th></th>\n",
              "      <th></th>\n",
              "      <th></th>\n",
              "      <th></th>\n",
              "      <th></th>\n",
              "      <th></th>\n",
              "      <th></th>\n",
              "      <th></th>\n",
              "      <th></th>\n",
              "      <th></th>\n",
              "      <th></th>\n",
              "      <th></th>\n",
              "      <th></th>\n",
              "      <th></th>\n",
              "      <th></th>\n",
              "    </tr>\n",
              "  </thead>\n",
              "  <tbody>\n",
              "    <tr>\n",
              "      <th>0</th>\n",
              "      <td>0.496457</td>\n",
              "      <td>0.000000</td>\n",
              "      <td>0.279641</td>\n",
              "      <td>0.127067</td>\n",
              "      <td>16.136042</td>\n",
              "      <td>1.0</td>\n",
              "      <td>0.365139</td>\n",
              "      <td>1.000000</td>\n",
              "      <td>0.200283</td>\n",
              "      <td>0.243269</td>\n",
              "      <td>0.222012</td>\n",
              "      <td>0.191781</td>\n",
              "      <td>0.311762</td>\n",
              "      <td>0.313179</td>\n",
              "      <td>0.460085</td>\n",
              "      <td>2.422296</td>\n",
              "    </tr>\n",
              "    <tr>\n",
              "      <th>1</th>\n",
              "      <td>0.485337</td>\n",
              "      <td>0.152493</td>\n",
              "      <td>0.456012</td>\n",
              "      <td>0.230205</td>\n",
              "      <td>31.737537</td>\n",
              "      <td>0.0</td>\n",
              "      <td>0.000000</td>\n",
              "      <td>1.000000</td>\n",
              "      <td>0.414956</td>\n",
              "      <td>0.420821</td>\n",
              "      <td>0.447214</td>\n",
              "      <td>0.423754</td>\n",
              "      <td>0.417889</td>\n",
              "      <td>0.436950</td>\n",
              "      <td>0.249267</td>\n",
              "      <td>2.061584</td>\n",
              "    </tr>\n",
              "    <tr>\n",
              "      <th>2</th>\n",
              "      <td>0.490874</td>\n",
              "      <td>0.030639</td>\n",
              "      <td>0.488266</td>\n",
              "      <td>0.375489</td>\n",
              "      <td>30.730769</td>\n",
              "      <td>1.0</td>\n",
              "      <td>0.224902</td>\n",
              "      <td>0.008475</td>\n",
              "      <td>0.000652</td>\n",
              "      <td>0.000000</td>\n",
              "      <td>0.000000</td>\n",
              "      <td>0.000000</td>\n",
              "      <td>0.000000</td>\n",
              "      <td>0.000000</td>\n",
              "      <td>0.070404</td>\n",
              "      <td>2.024772</td>\n",
              "    </tr>\n",
              "    <tr>\n",
              "      <th>3</th>\n",
              "      <td>0.496017</td>\n",
              "      <td>0.087095</td>\n",
              "      <td>0.736059</td>\n",
              "      <td>0.313330</td>\n",
              "      <td>54.656399</td>\n",
              "      <td>1.0</td>\n",
              "      <td>0.713224</td>\n",
              "      <td>1.000000</td>\n",
              "      <td>0.615507</td>\n",
              "      <td>0.712161</td>\n",
              "      <td>0.724907</td>\n",
              "      <td>0.654806</td>\n",
              "      <td>0.726500</td>\n",
              "      <td>0.721190</td>\n",
              "      <td>0.100903</td>\n",
              "      <td>1.330855</td>\n",
              "    </tr>\n",
              "    <tr>\n",
              "      <th>4</th>\n",
              "      <td>0.506651</td>\n",
              "      <td>1.000000</td>\n",
              "      <td>0.440145</td>\n",
              "      <td>0.042322</td>\n",
              "      <td>26.754534</td>\n",
              "      <td>1.0</td>\n",
              "      <td>0.616687</td>\n",
              "      <td>0.993954</td>\n",
              "      <td>0.183797</td>\n",
              "      <td>0.345828</td>\n",
              "      <td>0.340992</td>\n",
              "      <td>0.140266</td>\n",
              "      <td>0.476421</td>\n",
              "      <td>0.499395</td>\n",
              "      <td>0.516324</td>\n",
              "      <td>2.287787</td>\n",
              "    </tr>\n",
              "  </tbody>\n",
              "</table>\n",
              "</div>"
            ],
            "text/plain": [
              "         Gender  Senior Citizen  ...  Churn Value  clusters\n",
              "Grupo                            ...                       \n",
              "0      0.496457        0.000000  ...     0.460085  2.422296\n",
              "1      0.485337        0.152493  ...     0.249267  2.061584\n",
              "2      0.490874        0.030639  ...     0.070404  2.024772\n",
              "3      0.496017        0.087095  ...     0.100903  1.330855\n",
              "4      0.506651        1.000000  ...     0.516324  2.287787\n",
              "\n",
              "[5 rows x 16 columns]"
            ]
          },
          "metadata": {},
          "execution_count": 48
        }
      ]
    },
    {
      "cell_type": "markdown",
      "metadata": {
        "id": "5W9hHVTJ1ldl"
      },
      "source": [
        "# 6. Conclusão"
      ],
      "id": "5W9hHVTJ1ldl"
    },
    {
      "cell_type": "markdown",
      "metadata": {
        "id": "07qUTS003JmD"
      },
      "source": [
        "O trabalho determinou os modelos SVM e Árvore de Decisão com acurácia acima do esperado, ambos acerca de 74%, porém foi encontrado valores baixos na precisão, recall e f-1 score na classe ``` 1 ``` do churn value, o que seria uma certa limitação para possuir uma alta perfomance de prever os dados de treinamento, na confusão de matriz foi observado que a predição correta se concentra na classe ```0``` do churn value e também utilizamos a técnica de KMeans, para fazer análise do centróide de cada grupo, que nesse caso escolhemos 5 clusters para entender a média dentre eles.\n",
        "\n",
        "As possíveis melhorias foram pensada da seguinte forma:\n",
        "1. Melhorar o agrupamento de dados que provavelmente melhoraria o resultado dos\n",
        "modelos.\n",
        "2. Utilizar alguma técnica de afinar os dados para obter os modelos mais ajustado ao nosso objetivo de negócio.\n",
        "3. Encontrar novas maneiras de explorar os dados categóricos.\n",
        "\n"
      ],
      "id": "07qUTS003JmD"
    },
    {
      "cell_type": "code",
      "metadata": {
        "id": "-T9g9Eod5iMZ"
      },
      "source": [],
      "id": "-T9g9Eod5iMZ",
      "execution_count": null,
      "outputs": []
    }
  ]
}